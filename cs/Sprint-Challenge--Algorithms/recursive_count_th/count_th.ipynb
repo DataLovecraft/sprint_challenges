{
 "cells": [
  {
   "cell_type": "code",
   "execution_count": 1,
   "metadata": {},
   "outputs": [],
   "source": [
    "'''\n",
    "Your function should take in a single parameter (a string `word`)\n",
    "Your function should return a count of how many occurences of ***\"th\"*** occur within `word`. Case matters.\n",
    "Your function must utilize recursion. It cannot contain any loops.\n",
    "'''\n",
    "def count_th(word):\n",
    "    \n",
    "    # TBC\n",
    "    \n",
    "    pass\n",
    "\n",
    "\n",
    "# https://www.sanfoundry.com/python-program-determine-many-times-given-letter-occurs-string-recursively/"
   ]
  },
  {
   "cell_type": "code",
   "execution_count": null,
   "metadata": {},
   "outputs": [],
   "source": [
    "\"\"\"\n",
    "1. Take a string and a character from the user and store it in different variables.\n",
    "2. Pass the string and the characters as arguments to a recursive function.\n",
    "3. Pass the base condition that the string isn’t empty.\n",
    "4. Check if the first character of the string is equal to the character taken from the user and if it is equal, increment the count.\n",
    "5. Progress the string either wise and print the number of times the letter occurs in the string.\n",
    "6. Exit.\n",
    "\"\"\"\n",
    "\n",
    "def count_th(word):\n",
    "    if not string:\n",
    "        return 0\n",
    "    elif string[0] == th:\n",
    "        return 1 + count_th(string[1:], th)\n",
    "    else:\n",
    "        return count_th(string[1:], th)\n",
    "\n",
    "string=raw_input(\"Enter string:\")\n",
    "ch=raw_input(\"Enter character to check:\")\n",
    "print(\"Count is:\")\n",
    "print(check(string,ch))\n",
    "\n",
    "# failed 4/5 test    \n",
    "    \n",
    "# predefine 'th'\n",
    "# base case? less than 2 chars\n",
    "# find within index via slicing\n",
    "#     "
   ]
  },
  {
   "cell_type": "code",
   "execution_count": null,
   "metadata": {},
   "outputs": [],
   "source": [
    "\n",
    "def count_th(word):\n",
    "    #predefine the term\n",
    "    target = 'th'\n",
    "    #if the word is <=1, it can't contain two characters!\n",
    "    if len(word) <= 1:\n",
    "        return 0\n",
    "    #if the target string is not in the word, return 0\n",
    "    elif target not in word:\n",
    "        return 0\n",
    "    #if the target string is in the word...\n",
    "    elif target in word:\n",
    "        #find the index where it first appears, and add 2 (to get where the string)\n",
    "        #after the target appears\n",
    "        sub_word_index = word.find(target) + 2\n",
    "        #use list slicing to get a new sub-word, starting after the\n",
    "        #most recent useage of the target string\n",
    "        new_word = word[sub_word_index:]\n",
    "        #incriment the count by 1, and then recursively search the sub-word.\n",
    "        return 1 + count_th(new_word)"
   ]
  },
  {
   "cell_type": "code",
   "execution_count": 3,
   "metadata": {},
   "outputs": [
    {
     "name": "stdout",
     "output_type": "stream",
     "text": [
      "The count is: 5\n"
     ]
    }
   ],
   "source": [
    "string = \"Python is awesome, isn't it?, also thtasdkkaththaskdth\"\n",
    "substring = \"th\"\n",
    "\n",
    "count = string.count(substring)\n",
    "\n",
    "# print count\n",
    "print(\"The count is:\", count)"
   ]
  },
  {
   "cell_type": "code",
   "execution_count": null,
   "metadata": {},
   "outputs": [],
   "source": []
  },
  {
   "cell_type": "code",
   "execution_count": null,
   "metadata": {},
   "outputs": [],
   "source": []
  }
 ],
 "metadata": {
  "kernelspec": {
   "display_name": "lambda",
   "language": "python",
   "name": "lambda"
  },
  "language_info": {
   "codemirror_mode": {
    "name": "ipython",
    "version": 3
   },
   "file_extension": ".py",
   "mimetype": "text/x-python",
   "name": "python",
   "nbconvert_exporter": "python",
   "pygments_lexer": "ipython3",
   "version": "3.6.10"
  }
 },
 "nbformat": 4,
 "nbformat_minor": 4
}
