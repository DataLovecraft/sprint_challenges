{
 "cells": [
  {
   "cell_type": "code",
   "execution_count": 1,
   "metadata": {},
   "outputs": [],
   "source": [
    "class RingBuffer:\n",
    "    def __init__(self, capacity):\n",
    "        self.capacity = capacity     # capacity : max number in the buffer\n",
    "        self.data = []               # empty array, alternative in a circular linked list\n",
    "        self.index = 0               # current index\n",
    "\n",
    "    def append(self, item):\n",
    "        if len(self.data) < self.capacity:\n",
    "            self.data.append(item)\n",
    "\n",
    "        else:\n",
    "            self.data[self.index] = item     # oldest data starts at index zero\n",
    "\n",
    "        self.index += 1                      # index plus 1\n",
    "        self.index = self.index % (self.capacity)\n",
    "\n",
    "    def get(self):\n",
    "        # return list of elements in correct order \n",
    "        return self.data"
   ]
  },
  {
   "cell_type": "code",
   "execution_count": 2,
   "metadata": {},
   "outputs": [
    {
     "data": {
      "text/plain": [
       "['d', 'e', 'f']"
      ]
     },
     "execution_count": 2,
     "metadata": {},
     "output_type": "execute_result"
    }
   ],
   "source": [
    "buffer = RingBuffer(3)\n",
    "\n",
    "buffer.get()   # should return []\n",
    "\n",
    "buffer.append('a')\n",
    "buffer.append('b')\n",
    "buffer.append('c')\n",
    "\n",
    "buffer.get()   # should return ['a', 'b', 'c']\n",
    "\n",
    "# 'd' overwrites the oldest value in the ring buffer, which is 'a'\n",
    "buffer.append('d')\n",
    "\n",
    "buffer.get()   # should return ['d', 'b', 'c']\n",
    "\n",
    "buffer.append('e')\n",
    "buffer.append('f')\n",
    "\n",
    "buffer.get()   # should return ['d', 'e', 'f']"
   ]
  },
  {
   "cell_type": "code",
   "execution_count": null,
   "metadata": {},
   "outputs": [],
   "source": []
  }
 ],
 "metadata": {
  "kernelspec": {
   "display_name": "lambda",
   "language": "python",
   "name": "lambda"
  },
  "language_info": {
   "codemirror_mode": {
    "name": "ipython",
    "version": 3
   },
   "file_extension": ".py",
   "mimetype": "text/x-python",
   "name": "python",
   "nbconvert_exporter": "python",
   "pygments_lexer": "ipython3",
   "version": "3.6.10"
  }
 },
 "nbformat": 4,
 "nbformat_minor": 4
}
