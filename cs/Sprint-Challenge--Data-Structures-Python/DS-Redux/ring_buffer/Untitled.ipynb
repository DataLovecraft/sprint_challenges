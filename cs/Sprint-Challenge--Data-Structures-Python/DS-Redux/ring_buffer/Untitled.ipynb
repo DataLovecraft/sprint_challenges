{
 "cells": [
  {
   "cell_type": "code",
   "execution_count": null,
   "metadata": {},
   "outputs": [],
   "source": [
    "class RingBuffer:\n",
    "    def __init__(self, capacity):\n",
    "        self.capacity = capacity     # capacity : max number in the buffer\n",
    "        self.data = []               # empty array, alternative in a circular linked list\n",
    "        self.index = 0               # current index\n",
    "\n",
    "    def append(self, item):\n",
    "        \"\"\"append an element at the end of the buffer\"\"\"\n",
    "        self.data.append(item)\n",
    "        if len(self.data) == self.capacity:\n",
    "            self.cur = 0\n",
    "        \"\"\" Append an element overwriting the oldest one. \"\"\"\n",
    "        else:\n",
    "            self.data[self.cur] = item  \n",
    "        self.cur = (self.cur+1) % self.capacity\n",
    "\n",
    "    def get(self):\n",
    "        \"\"\" Return a list of elements from the oldest to the newest. \"\"\"\n",
    "        return self.data"
   ]
  },
  {
   "cell_type": "code",
   "execution_count": null,
   "metadata": {},
   "outputs": [],
   "source": [
    "buffer = RingBuffer(3)"
   ]
  },
  {
   "cell_type": "code",
   "execution_count": null,
   "metadata": {},
   "outputs": [],
   "source": [
    "buffer.get()"
   ]
  },
  {
   "cell_type": "code",
   "execution_count": null,
   "metadata": {},
   "outputs": [],
   "source": [
    "buffer.append('a')\n",
    "buffer.append('b')\n",
    "buffer.append('c')\n",
    "buffer.get()"
   ]
  },
  {
   "cell_type": "code",
   "execution_count": null,
   "metadata": {},
   "outputs": [],
   "source": [
    "# 'd' overwrites the oldest value in the ring buffer, which is 'a'\n",
    "buffer.append('d')\n",
    "buffer.get()   # should return ['d', 'b', 'c']"
   ]
  },
  {
   "cell_type": "code",
   "execution_count": null,
   "metadata": {},
   "outputs": [],
   "source": [
    "buffer.append('e')\n",
    "buffer.append('f')\n",
    "buffer.get()   # should return ['d', 'e', 'f']"
   ]
  },
  {
   "cell_type": "code",
   "execution_count": 34,
   "metadata": {},
   "outputs": [],
   "source": [
    "class RingBuffer:\n",
    "    \"\"\" class that implements a not-yet-full buffer \"\"\"\n",
    "    def __init__(self, capacity):\n",
    "        self.capacity = capacity\n",
    "        self.data = []\n",
    "\n",
    "    class __Full:\n",
    "        \"\"\" class that implements a full buffer \"\"\"\n",
    "        def append(self, item):\n",
    "            \"\"\" Append an element overwriting the oldest one. \"\"\"\n",
    "            self.data[self.cur] = item\n",
    "            self.cur = (self.cur+1) % self.capacity\n",
    "        def get(self):\n",
    "            \"\"\" return list of elements in correct order \"\"\"\n",
    "            return self.data[self.cur:]+self.data[:self.cur]\n",
    "\n",
    "    def append(self, item):\n",
    "        \"\"\"append an element at the end of the buffer\"\"\"\n",
    "        self.data.append(item)\n",
    "        if len(self.data) == self.capacity:\n",
    "            self.cur = 0\n",
    "            # Permanently change self's class from non-full to full\n",
    "            self.__class__ = self.__Full\n",
    "\n",
    "    def get(self):\n",
    "        \"\"\" Return a list of elements from the oldest to the newest. \"\"\"\n",
    "        return self.data\n"
   ]
  },
  {
   "cell_type": "code",
   "execution_count": 35,
   "metadata": {},
   "outputs": [
    {
     "data": {
      "text/plain": [
       "[]"
      ]
     },
     "execution_count": 35,
     "metadata": {},
     "output_type": "execute_result"
    }
   ],
   "source": [
    "buffer = RingBuffer(3)\n",
    "buffer.get()"
   ]
  },
  {
   "cell_type": "code",
   "execution_count": 36,
   "metadata": {},
   "outputs": [
    {
     "data": {
      "text/plain": [
       "['a', 'b', 'c']"
      ]
     },
     "execution_count": 36,
     "metadata": {},
     "output_type": "execute_result"
    }
   ],
   "source": [
    "buffer.append('a')\n",
    "buffer.append('b')\n",
    "buffer.append('c')\n",
    "buffer.get()"
   ]
  },
  {
   "cell_type": "code",
   "execution_count": 37,
   "metadata": {},
   "outputs": [
    {
     "data": {
      "text/plain": [
       "['b', 'c', 'd']"
      ]
     },
     "execution_count": 37,
     "metadata": {},
     "output_type": "execute_result"
    }
   ],
   "source": [
    "# 'd' overwrites the oldest value in the ring buffer, which is 'a'\n",
    "buffer.append('d')\n",
    "buffer.get()   # should return ['d', 'b', 'c']"
   ]
  },
  {
   "cell_type": "code",
   "execution_count": null,
   "metadata": {},
   "outputs": [],
   "source": [
    "buffer.append('e')\n",
    "buffer.append('f')\n",
    "buffer.get()   # should return ['d', 'e', 'f']"
   ]
  },
  {
   "cell_type": "code",
   "execution_count": null,
   "metadata": {},
   "outputs": [],
   "source": [
    "class RingBuffer:\n",
    "    def __init__(self, capacity):\n",
    "        self.capacity: int = capacity\n",
    "        self.storage = []\n",
    "        self.current_location = 0\n",
    "\n",
    "    def append(self, item):\n",
    "        if self.current_location >= len(self.storage):\n",
    "            self.storage.append(item)\n",
    "        else:\n",
    "            self.storage[self.current_location] = item\n",
    "\n",
    "        self.current_location += 1\n",
    "        if self.current_location == self.capacity:\n",
    "            self.current_location = 0\n",
    "\n",
    "    def get(self):\n",
    "        return self.storage"
   ]
  }
 ],
 "metadata": {
  "kernelspec": {
   "display_name": "lambda",
   "language": "python",
   "name": "lambda"
  },
  "language_info": {
   "codemirror_mode": {
    "name": "ipython",
    "version": 3
   },
   "file_extension": ".py",
   "mimetype": "text/x-python",
   "name": "python",
   "nbconvert_exporter": "python",
   "pygments_lexer": "ipython3",
   "version": "3.6.10"
  }
 },
 "nbformat": 4,
 "nbformat_minor": 4
}
