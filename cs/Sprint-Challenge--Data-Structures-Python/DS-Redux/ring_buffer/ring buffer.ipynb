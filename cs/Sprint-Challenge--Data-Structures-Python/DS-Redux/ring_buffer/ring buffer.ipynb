{
 "cells": [
  {
   "cell_type": "code",
   "execution_count": null,
   "metadata": {},
   "outputs": [],
   "source": [
    "class RingBuffer:\n",
    "    def __init__(self, capacity):\n",
    "        self.capacity = capacity     # capacity : max number in the buffer\n",
    "        self.data = []               # empty array, alternative in a circular linked list\n",
    "        self.index = 0               # current index\n",
    "\n",
    "    def append(self, item):\n",
    "        \"\"\"append an element at the end of the buffer\"\"\"\n",
    "        self.data.append(item)\n",
    "        if len(self.data) == self.capacity:\n",
    "            self.cur = 0\n",
    "        \"\"\" Append an element overwriting the oldest one. \"\"\"\n",
    "        else:\n",
    "            self.data[self.cur] = item  \n",
    "        self.cur = (self.cur+1) % self.capacity\n",
    "\n",
    "    def get(self):\n",
    "        \"\"\" Return a list of elements from the oldest to the newest. \"\"\"\n",
    "        return self.data"
   ]
  },
  {
   "cell_type": "code",
   "execution_count": null,
   "metadata": {},
   "outputs": [],
   "source": [
    "buffer = RingBuffer(3)"
   ]
  },
  {
   "cell_type": "code",
   "execution_count": null,
   "metadata": {},
   "outputs": [],
   "source": [
    "buffer.get()"
   ]
  },
  {
   "cell_type": "code",
   "execution_count": null,
   "metadata": {},
   "outputs": [],
   "source": [
    "buffer.append('a')\n",
    "buffer.append('b')\n",
    "buffer.append('c')\n",
    "buffer.get()"
   ]
  },
  {
   "cell_type": "code",
   "execution_count": null,
   "metadata": {},
   "outputs": [],
   "source": [
    "# 'd' overwrites the oldest value in the ring buffer, which is 'a'\n",
    "buffer.append('d')\n",
    "buffer.get()   # should return ['d', 'b', 'c']"
   ]
  },
  {
   "cell_type": "code",
   "execution_count": null,
   "metadata": {},
   "outputs": [],
   "source": [
    "buffer.append('e')\n",
    "buffer.append('f')\n",
    "buffer.get()   # should return ['d', 'e', 'f']"
   ]
  },
  {
   "cell_type": "code",
   "execution_count": 38,
   "metadata": {},
   "outputs": [],
   "source": [
    "\"\"\"\n",
    "You want to define a buffer with a fixed size, so that when it fills up, adding another element must overwrite the first (oldest) one. \n",
    "\n",
    "\"\"\"\n",
    "class RingBuffer:\n",
    "    def __init__(self, size_max):\n",
    "        self.max: int = size_max         # max number in the buffer\n",
    "        self.data: list = []             # empty array, alternative in a circular linked list\n",
    "        self.head = 0                    # current index\n",
    "\n",
    "    def append(self, item):\n",
    "        if len(self.data) == self.size_max:\n",
    "            self.data.pop(self.head)\n",
    "            self.storage.insert(self.head, item)\n",
    "            self.head += 1\n",
    "            if self.head == self.capacity:\n",
    "                self.head = 0\n",
    "        else:\n",
    "            self.storage.append(item)\n",
    "\n",
    "    def get(self):\n",
    "        \"\"\" Return a list of elements from the oldest to the newest. \"\"\"\n",
    "        return self.storage"
   ]
  },
  {
   "cell_type": "code",
   "execution_count": null,
   "metadata": {},
   "outputs": [],
   "source": [
    "class RingBuffer:\n",
    "    \"\"\" class that implements a not-yet-full buffer \"\"\"\n",
    "    def _ _init_ _(self,size_max):\n",
    "        self.max = size_max\n",
    "        self.data = []\n",
    "\n",
    "    class _ _Full:\n",
    "        \"\"\" class that implements a full buffer \"\"\"\n",
    "        def append(self, x):\n",
    "            \"\"\" Append an element overwriting the oldest one. \"\"\"\n",
    "            self.data[self.cur] = x\n",
    "            self.cur = (self.cur+1) % self.max\n",
    "        def get(self):\n",
    "            \"\"\" return list of elements in correct order \"\"\"\n",
    "            return self.data[self.cur:]+self.data[:self.cur]\n",
    "\n",
    "    def append(self,x):\n",
    "        \"\"\"append an element at the end of the buffer\"\"\"\n",
    "        self.data.append(x)\n",
    "        if len(self.data) == self.max:\n",
    "            self.cur = 0\n",
    "            # Permanently change self's class from non-full to full\n",
    "            self._ _class_ _ = self._ _Full\n",
    "\n",
    "    def get(self):\n",
    "        \"\"\" Return a list of elements from the oldest to the newest. \"\"\"\n",
    "        return self.data\n",
    "\n",
    "# sample usage\n",
    "if _ _name_ _=='_ _main_ _':\n",
    "    x=RingBuffer(5)\n",
    "    x.append(1); x.append(2); x.append(3); x.append(4)\n",
    "    print x._ _class_ _, x.get(  )\n",
    "    x.append(5)\n",
    "    print x._ _class_ _, x.get(  )\n",
    "    x.append(6)\n",
    "    print x.data, x.get(  )\n",
    "    x.append(7); x.append(8); x.append(9); x.append(10)\n",
    "    print x.data, x.get(  )\n"
   ]
  }
 ],
 "metadata": {
  "kernelspec": {
   "display_name": "lambda",
   "language": "python",
   "name": "lambda"
  },
  "language_info": {
   "codemirror_mode": {
    "name": "ipython",
    "version": 3
   },
   "file_extension": ".py",
   "mimetype": "text/x-python",
   "name": "python",
   "nbconvert_exporter": "python",
   "pygments_lexer": "ipython3",
   "version": "3.6.10"
  }
 },
 "nbformat": 4,
 "nbformat_minor": 4
}
