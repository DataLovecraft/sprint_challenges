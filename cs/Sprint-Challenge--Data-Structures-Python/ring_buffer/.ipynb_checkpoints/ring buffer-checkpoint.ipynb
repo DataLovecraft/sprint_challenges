{
 "cells": [
  {
   "cell_type": "code",
   "execution_count": 14,
   "metadata": {},
   "outputs": [],
   "source": [
    "class RingBuffer:                                                                                    \n",
    "    \"\"\" class that implements a not-yet-full buffer \"\"\"                                              \n",
    "    def __init__(self, capacity):                                                                    \n",
    "        self.capacity = capacity       \n",
    "        self.data = []                                                                               \n",
    "                                                                                                                                   \n",
    "    class __Full:                                                                                    \n",
    "        \"\"\" class that implements a full buffer \"\"\"                                                  \n",
    "        def append(self, item):                                                                      \n",
    "            \"\"\" Append an element overwriting the oldest one. \"\"\"                                    \n",
    "            self.data[self.cur] = item                                                               \n",
    "            self.cur = (self.cur+1) % self.capacity                                                  \n",
    "        def get(self):                                                                               \n",
    "            \"\"\" return list of elements in correct order \"\"\"                                         \n",
    "            return self.data[self.cur:]+self.data[:self.cur]                                         \n",
    "                                                                                                                                   \n",
    "    def append(self, item):                                                                          \n",
    "        \"\"\"append an element at the end of the buffer\"\"\"                                             \n",
    "        self.data.append(item)                                                                       \n",
    "        if len(self.data) == self.capacity:                                                          \n",
    "            self.cur = 0                                                                             \n",
    "            # Permanently change self's class from non-full to full                                  \n",
    "            self.__class__ = self.__Full                                                             \n",
    "                                                                                                                                   \n",
    "    def get(self):                                                                                   \n",
    "        \"\"\" Return a list of elements from the oldest to the newest. \"\"\"                             \n",
    "        return self.data "
   ]
  },
  {
   "cell_type": "code",
   "execution_count": 15,
   "metadata": {},
   "outputs": [],
   "source": [
    "buffer = RingBuffer(3)"
   ]
  },
  {
   "cell_type": "code",
   "execution_count": 16,
   "metadata": {},
   "outputs": [
    {
     "data": {
      "text/plain": [
       "[]"
      ]
     },
     "execution_count": 16,
     "metadata": {},
     "output_type": "execute_result"
    }
   ],
   "source": [
    "buffer.get() "
   ]
  },
  {
   "cell_type": "code",
   "execution_count": 17,
   "metadata": {},
   "outputs": [
    {
     "data": {
      "text/plain": [
       "['a', 'b', 'c']"
      ]
     },
     "execution_count": 17,
     "metadata": {},
     "output_type": "execute_result"
    }
   ],
   "source": [
    "buffer.append('a')\n",
    "buffer.append('b')\n",
    "buffer.append('c')\n",
    "\n",
    "buffer.get()"
   ]
  },
  {
   "cell_type": "code",
   "execution_count": 18,
   "metadata": {},
   "outputs": [
    {
     "data": {
      "text/plain": [
       "['a', 'b', 'c']"
      ]
     },
     "execution_count": 18,
     "metadata": {},
     "output_type": "execute_result"
    }
   ],
   "source": [
    "buffer.get()"
   ]
  },
  {
   "cell_type": "code",
   "execution_count": 21,
   "metadata": {},
   "outputs": [
    {
     "data": {
      "text/plain": [
       "['c', 'd', 'd']"
      ]
     },
     "execution_count": 21,
     "metadata": {},
     "output_type": "execute_result"
    }
   ],
   "source": [
    "# # 'd' overwrites the oldest value in the ring buffer, which is 'a'\n",
    "\n",
    "buffer.append('d')\n",
    "buffer.get()"
   ]
  },
  {
   "cell_type": "code",
   "execution_count": 22,
   "metadata": {},
   "outputs": [
    {
     "data": {
      "text/plain": [
       "['d', 'e', 'f']"
      ]
     },
     "execution_count": 22,
     "metadata": {},
     "output_type": "execute_result"
    }
   ],
   "source": [
    "buffer.append('e')\n",
    "buffer.append('f')\n",
    "\n",
    "buffer.get()   # should return ['d', 'e', 'f']"
   ]
  },
  {
   "cell_type": "code",
   "execution_count": null,
   "metadata": {},
   "outputs": [],
   "source": []
  }
 ],
 "metadata": {
  "kernelspec": {
   "display_name": "lambda",
   "language": "python",
   "name": "lambda"
  },
  "language_info": {
   "codemirror_mode": {
    "name": "ipython",
    "version": 3
   },
   "file_extension": ".py",
   "mimetype": "text/x-python",
   "name": "python",
   "nbconvert_exporter": "python",
   "pygments_lexer": "ipython3",
   "version": "3.6.10"
  }
 },
 "nbformat": 4,
 "nbformat_minor": 4
}
