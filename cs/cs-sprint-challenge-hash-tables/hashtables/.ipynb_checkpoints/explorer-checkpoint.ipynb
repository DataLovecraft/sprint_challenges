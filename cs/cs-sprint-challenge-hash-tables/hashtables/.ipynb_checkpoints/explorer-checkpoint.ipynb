{
 "cells": [
  {
   "cell_type": "markdown",
   "metadata": {},
   "source": [
    "# Example 1\n",
    "> Merging Two Packages"
   ]
  },
  {
   "cell_type": "code",
   "execution_count": null,
   "metadata": {},
   "outputs": [],
   "source": [
    "from typing import List, Tuple\n",
    "\n",
    "def get_indices_of_item_weights(weights: List[int], length: int, limit: int) -> Tuple[int, int]:\n",
    "    \"\"\"\n",
    "    YOUR CODE HERE\n",
    "    \"\"\"\n",
    "    # local var to init a empty python dict:\n",
    "    cache = {}\n",
    "    \n",
    "    # iterate through list: 0(n)\n",
    "    for elem in range(len(weights)):\n",
    "        # compute the difference for each element in the list:\n",
    "        diff = limit - weights[elem]\n",
    "        # add to hashtable: 0(1)\n",
    "        if diff in cache:\n",
    "            # if the difference is in the hashtable:\n",
    "            # the complement of a set A refers to elements not in A.\n",
    "            complement = cache[diff]\n",
    "            # \n",
    "            answer = (elem, complement)\n",
    "            return answer\n",
    "        else:\n",
    "            cache[weights[elem]] = elem\n",
    "    # If such a pair doesn’t exist for the given inputs return None:        \n",
    "    return None\n",
    "\n",
    "get_indices_of_item_weights(weights = [ 4, 6, 10, 15, 16 ], length = 5, limit = 21)\n",
    "\n",
    "# \"\"\"\n",
    "# The difference of the limit minus the weight of each element \n",
    "# is the key equation for making this work. A complement is what\n",
    "# remains when not in the hashtable. In this case 15, or index 3\n",
    "# in which the difference of 6, element 1 is already represent. \n",
    "\n",
    "# https://en.wikipedia.org/wiki/Complement_(set_theory)\n",
    "# \"\"\""
   ]
  },
  {
   "cell_type": "code",
   "execution_count": null,
   "metadata": {},
   "outputs": [],
   "source": [
    "assert get_indices_of_item_weights(weights = [ 4, 6, 10, 15, 16 ], length = 5, limit = 21) == (3, 1)"
   ]
  },
  {
   "cell_type": "code",
   "execution_count": null,
   "metadata": {},
   "outputs": [],
   "source": [
    "x = get_indices_of_item_weights(weights = [ 4, 6, 10, 15, 16 ], length = 5, limit = 21)"
   ]
  },
  {
   "cell_type": "code",
   "execution_count": null,
   "metadata": {},
   "outputs": [],
   "source": [
    "type(x)"
   ]
  },
  {
   "cell_type": "code",
   "execution_count": null,
   "metadata": {},
   "outputs": [],
   "source": [
    "weights = [ 4, 6, 10, 15, 16 ]\n",
    "length = 5\n",
    "limit = 21"
   ]
  },
  {
   "cell_type": "code",
   "execution_count": null,
   "metadata": {
    "scrolled": true
   },
   "outputs": [],
   "source": [
    "length = len(weights)\n",
    "length"
   ]
  },
  {
   "cell_type": "code",
   "execution_count": null,
   "metadata": {},
   "outputs": [],
   "source": [
    "ht = {}\n",
    "for elem in range(length):\n",
    "        diff = limit - weights[elem]\n",
    "        ht[weights[elem]] = elem\n",
    "        print(diff)\n",
    "        print(ht)"
   ]
  },
  {
   "cell_type": "markdown",
   "metadata": {},
   "source": [
    "# Example 2\n",
    "> One-Way Flight Trip\n",
    "\n",
    "Symmetric difference of two sets, Srcs and Dsts:\n",
    "- https://en.wikipedia.org/wiki/Symmetric_difference\n",
    "- https://stackoverflow.com/questions/2991950/one-way-flight-trip-problem"
   ]
  },
  {
   "cell_type": "code",
   "execution_count": null,
   "metadata": {},
   "outputs": [],
   "source": [
    "class Ticket:\n",
    "    def __init__(self, source, destination):\n",
    "        self.source = source\n",
    "        self.destination = destination"
   ]
  },
  {
   "cell_type": "code",
   "execution_count": null,
   "metadata": {},
   "outputs": [],
   "source": [
    "def reconstruct_trip(tickets, length) -> List[str]:\n",
    "    \"\"\"\n",
    "    This is essentialy a linked-list\n",
    "    \n",
    "    \"\"\"\n",
    "    # Initialize an empty python dict:\n",
    "    cache = {}\n",
    "    # Initialize an empty list for the length of the tickets list:\n",
    "    route = [None] * length\n",
    "    # Here we are building up our dict(cashe):\n",
    "    # Loop over each ticker in the list and add source as the\n",
    "    # key and destination as the value to the cache:\n",
    "    for i in range(length): \n",
    "        if tickets[i].source == \"None\":\n",
    "            # add destination to route instance:   \n",
    "            route[0] = ticket[i].destination\n",
    "        # we hash each ticket such that the starting location\n",
    "        # is they key and the destination is the value:\n",
    "        cache[tickets[i].source] = tickets[i].destination\n",
    "    # For each ticket in the list set the destination to route list\n",
    "    # then set the source of the next trip to previous trip destination.\n",
    "    # Then when contructing the entire route, the ith location\n",
    "    # in the route can befound by checking the hash table for the\n",
    "    # i-1th location:\n",
    "    for j in range(length):\n",
    "        # here we check if the current route idx - 1 is not None:\n",
    "        if route[j - 1] is not None:\n",
    "            # if its not, set current route and input into cache idx - 1\n",
    "            route[j] = cache[route[j - 1]]\n",
    "            # last destination is None when done.\n",
    "    return route\n"
   ]
  },
  {
   "cell_type": "code",
   "execution_count": null,
   "metadata": {},
   "outputs": [],
   "source": [
    "ticket_1 = Ticket(\"NONE\", \"PDX\")\n",
    "ticket_2 = Ticket(\"PDX\", \"DCA\")\n",
    "ticket_3 = Ticket(\"DCA\", \"NONE\")\n",
    "\n",
    "tickets = [ticket_1, ticket_2, ticket_3]\n",
    "\n",
    "reconstruct_trip(tickets, 3)"
   ]
  },
  {
   "cell_type": "code",
   "execution_count": null,
   "metadata": {},
   "outputs": [],
   "source": [
    "cache = {}\n",
    "route = [None] * length"
   ]
  },
  {
   "cell_type": "code",
   "execution_count": null,
   "metadata": {},
   "outputs": [],
   "source": [
    "ticket_1.source == \"NONE\""
   ]
  },
  {
   "cell_type": "code",
   "execution_count": null,
   "metadata": {},
   "outputs": [],
   "source": [
    "route[0] = ticket_1.destination\n",
    "route"
   ]
  },
  {
   "cell_type": "code",
   "execution_count": null,
   "metadata": {},
   "outputs": [],
   "source": [
    "tickets[0].source"
   ]
  },
  {
   "cell_type": "code",
   "execution_count": null,
   "metadata": {},
   "outputs": [],
   "source": [
    "tickets[0].destination"
   ]
  },
  {
   "cell_type": "code",
   "execution_count": null,
   "metadata": {},
   "outputs": [],
   "source": [
    "cache[tickets[0].source] = tickets[0].destination"
   ]
  },
  {
   "cell_type": "code",
   "execution_count": null,
   "metadata": {},
   "outputs": [],
   "source": [
    "cache"
   ]
  },
  {
   "cell_type": "code",
   "execution_count": null,
   "metadata": {},
   "outputs": [],
   "source": [
    "route[1 - 1] is not None"
   ]
  },
  {
   "cell_type": "code",
   "execution_count": null,
   "metadata": {
    "scrolled": true
   },
   "outputs": [],
   "source": [
    "route[0] = cache[route[0 - 1]]"
   ]
  },
  {
   "cell_type": "code",
   "execution_count": null,
   "metadata": {},
   "outputs": [],
   "source": [
    "# note: Test keeps failing. \n",
    "# todo"
   ]
  },
  {
   "cell_type": "markdown",
   "metadata": {},
   "source": [
    "# Example 3\n",
    "> Intersections of Multiple Lists\n",
    "\n",
    "Find the intersection between multiple list of integers. \n",
    "\n",
    "input: a list of list\n",
    "output: a list of the results\n",
    "\n",
    "Steps:\n",
    "1. loop through each subarray and add each number to the cache. \n",
    "2. if the number already exist in the cache then we can add it to the results."
   ]
  },
  {
   "cell_type": "code",
   "execution_count": null,
   "metadata": {},
   "outputs": [],
   "source": [
    "from typing import List\n",
    "\n",
    "def intersection(array: List[List[int]]) -> List[int]:\n",
    "    cache = {}\n",
    "    \n",
    "    for subs in array:\n",
    "        if num in subs:\n",
    "    \n",
    "    \n",
    "    \n",
    "    results = []\n",
    "    \n",
    "    return results "
   ]
  },
  {
   "cell_type": "code",
   "execution_count": 194,
   "metadata": {},
   "outputs": [],
   "source": [
    "arrays = [\n",
    "            [1, 2, 3, 4, 5],\n",
    "            [12, 7, 2, 9, 1],\n",
    "            [99, 2, 7, 1,]\n",
    "        ]\n",
    "\n",
    "# [1, 2]"
   ]
  },
  {
   "cell_type": "code",
   "execution_count": 195,
   "metadata": {},
   "outputs": [
    {
     "name": "stdout",
     "output_type": "stream",
     "text": [
      "[1, 2, 3, 4, 5]\n",
      "[12, 7, 2, 9, 1]\n",
      "[99, 2, 7, 1]\n"
     ]
    }
   ],
   "source": [
    "# init an empty list to store and return our final results:\n",
    "results = []\n",
    "\n",
    "# We use a cache add each number that is listed in the array:\n",
    "cache = {}\n",
    "\n",
    "# we start with the initial loop of the subarrays:\n",
    "for i in arrays:\n",
    "    print(i)\n",
    " "
   ]
  },
  {
   "cell_type": "code",
   "execution_count": 196,
   "metadata": {},
   "outputs": [
    {
     "name": "stdout",
     "output_type": "stream",
     "text": [
      "1\n",
      "2\n",
      "3\n",
      "4\n",
      "5\n",
      "12\n",
      "7\n",
      "2\n",
      "9\n",
      "1\n",
      "99\n",
      "2\n",
      "7\n",
      "1\n"
     ]
    }
   ],
   "source": [
    "# then loop through each array in the subarray\n",
    "for subsarrays in arrays:\n",
    "    for num in subsarrays:\n",
    "        print(num)"
   ]
  },
  {
   "cell_type": "code",
   "execution_count": null,
   "metadata": {},
   "outputs": [],
   "source": [
    "# logic at this stage:\n",
    "for subsarrays in arrays:\n",
    "    for num in subsarrays:\n",
    "        # if the number is not in the cache:\n",
    "        if num not in cache:\n",
    "            # add number to cache:\n",
    "            cache[num] = 1\n",
    "        # if the number is not in the cache:\n",
    "        else:\n",
    "            # add number to list  \n",
    "            results.append(num)"
   ]
  },
  {
   "cell_type": "code",
   "execution_count": null,
   "metadata": {},
   "outputs": [],
   "source": [
    "cache"
   ]
  },
  {
   "cell_type": "code",
   "execution_count": 197,
   "metadata": {},
   "outputs": [],
   "source": [
    "# lets instead count how many numbers in the cache:\n",
    "# logic at this stage\n",
    "for subsarrays in arrays:\n",
    "    for num in subsarrays:\n",
    "        # if the number is in the cache:\n",
    "        if num in cache:\n",
    "            # raise count of num by one\n",
    "            cache[num] += 1\n",
    "        # if the number is not in the cache:\n",
    "        else:\n",
    "            # add the number to the cache\n",
    "            cache[num] = 1            "
   ]
  },
  {
   "cell_type": "code",
   "execution_count": 198,
   "metadata": {},
   "outputs": [
    {
     "data": {
      "text/plain": [
       "{1: 3, 2: 3, 3: 1, 4: 1, 5: 1, 12: 1, 7: 2, 9: 1, 99: 1}"
      ]
     },
     "execution_count": 198,
     "metadata": {},
     "output_type": "execute_result"
    }
   ],
   "source": [
    "cache"
   ]
  },
  {
   "cell_type": "code",
   "execution_count": 199,
   "metadata": {},
   "outputs": [
    {
     "data": {
      "text/plain": [
       "3"
      ]
     },
     "execution_count": 199,
     "metadata": {},
     "output_type": "execute_result"
    }
   ],
   "source": [
    "# since we want to know which numbers intersect each subarray, 3, we can use that info:\n",
    "array_count = len(arrays)\n",
    "array_count"
   ]
  },
  {
   "cell_type": "code",
   "execution_count": 200,
   "metadata": {},
   "outputs": [],
   "source": [
    "# we can use dict to efficienty search for values equal to 3\n",
    "# and append to our results list: \n",
    "for key in cache:\n",
    "    if cache[key] == array_count:\n",
    "        results.append(key)"
   ]
  },
  {
   "cell_type": "code",
   "execution_count": 201,
   "metadata": {},
   "outputs": [
    {
     "data": {
      "text/plain": [
       "[1, 2]"
      ]
     },
     "execution_count": 201,
     "metadata": {},
     "output_type": "execute_result"
    }
   ],
   "source": [
    "results"
   ]
  },
  {
   "cell_type": "markdown",
   "metadata": {},
   "source": [
    "# Example 4\n",
    "> Positive and Negative\n",
    "\n"
   ]
  },
  {
   "cell_type": "code",
   "execution_count": null,
   "metadata": {},
   "outputs": [],
   "source": [
    "from typing import List\n",
    "\n",
    "def has_negatives(a: List[int]) -> list[int]:\n",
    "    \"\"\"\n",
    "    Function that returns which positive numbers have \n",
    "    corresponding negative numbers\n",
    "    \n",
    "    Args:\n",
    "        a: List[int] - A list of integers\n",
    "    \n",
    "    Returns:\n",
    "        results: List[int] - A list of integers\n",
    "    \n",
    "    \"\"\"\n",
    "    cache = {}\n",
    "    \n",
    "    \n",
    "    \n",
    "    result = []\n",
    "    \n",
    "    return result"
   ]
  },
  {
   "cell_type": "code",
   "execution_count": null,
   "metadata": {},
   "outputs": [],
   "source": []
  },
  {
   "cell_type": "markdown",
   "metadata": {},
   "source": [
    "# Example 5\n",
    "> File Finder"
   ]
  },
  {
   "cell_type": "markdown",
   "metadata": {},
   "source": [
    "# Interview Questions:\n",
    "\n",
    "- Hashing functions\n",
    "- Collision resolution\n",
    "- Performance of basic hash table operations\n",
    "- Load factor\n",
    "- Automatic resizing\n",
    "- Various use cases for hash tables\n",
    "\n",
    "#### Hashing Functions: \n",
    "\n",
    "A hash function is any function that can be used to map data of arbitrary size to fixed-size values. The values returned by a hash function are called hash values, hash codes, digests, or simply hashes. The values are used to index a fixed-size table called a hash table. Use of a hash function to index a hash table is called hashing or scatter storage addressing.\n",
    "\n",
    "MD5, SHA-2\n",
    "\n",
    "#### Collision Resolution:\n",
    "\n",
    "A way of handling collisions, that is, when two or more items should be kept in the same location, especially in a hash table. The general ways are keeping subsequent items within the table and computing possible locations (open addressing), keeping lists for items that collide (chaining), or keeping one special overflow area.\n",
    "\n",
    "direct chaining, open addressing, separate chaining.\n",
    "\n",
    "#### Performance of basic hash table operations:\n",
    "\n",
    "\n",
    "#### Load Factor: \n",
    "\n",
    "The load factor is the number of keys stored in the hash table divided by the capacity. The size should be chosen so that the load factor is less than 1. For instance, if we want to implement a German-English dictionary with 50,000 German words, we need a hash table that is larger than 50,000.\n",
    "\n",
    "#### Automatic Resizing: \n",
    "\n",
    "When an insert is made such that the number of entries in a hash table exceeds the product of the load factor and the current capacity then the hash table will need to be rehashed.[9] Rehashing includes increasing the size of the underlying data structure[9] and mapping existing items to new bucket locations. In some implementations, if the initial capacity is greater than the maximum number of entries divided by the load factor, no rehash operations will ever occur\n",
    "\n",
    "To limit the proportion of memory wasted due to empty buckets, some implementations also shrink the size of the table—followed by a rehash—when items are deleted. From the point of space–time tradeoffs, this operation is similar to the deallocation in dynamic arrays.\n",
    "\n",
    "#### Various use cases for hash tables:\n",
    "\n",
    "Search for elements within a large data set\n",
    "Find duplicate elements in a data set\n",
    "Quickly store and retrieve elements from a large data set\n",
    "\n",
    "By default hash-tables are non-ordered structures - which means the items don’t get accessed in the order they get inserted. So the use cases are :\n",
    "\n",
    "Storing anything where you need access based on a non integer\n",
    "Storing anything where you need sparse storage even based on an integer.\n",
    "Storing anything where there is no need to access data in the order the data is inserted (see note below).\n",
    "Storage where insertion and access both need to be fast.\n",
    "Storage where uniqueness is useful.\n",
    "Examples include :\n",
    "\n",
    "Text index into flatter data structures - use a hashtable to index data items in an array/list.\n",
    "Implementation of a sparsely filled map - where the co-ordinate is the key.\n",
    "Note - There are modern implementations of hash-tables which do preserve the order of insertion - one such optimised version of hash-tables are used in Python dictionaries.\n",
    "\n"
   ]
  },
  {
   "cell_type": "code",
   "execution_count": null,
   "metadata": {},
   "outputs": [],
   "source": []
  }
 ],
 "metadata": {
  "kernelspec": {
   "display_name": "lambda",
   "language": "python",
   "name": "lambda"
  },
  "language_info": {
   "codemirror_mode": {
    "name": "ipython",
    "version": 3
   },
   "file_extension": ".py",
   "mimetype": "text/x-python",
   "name": "python",
   "nbconvert_exporter": "python",
   "pygments_lexer": "ipython3",
   "version": "3.6.10"
  }
 },
 "nbformat": 4,
 "nbformat_minor": 4
}
